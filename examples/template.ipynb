{
 "cells": [
  {
   "cell_type": "markdown",
   "metadata": {},
   "source": [
    "# A tutorial for the template Python package\n",
    "\n",
    "This notebook demonstrates the usage of the **template** Python package.\n",
    "\n",
    "* Author: Qiusheng Wu (https://wetlands.io | wqs@binghamton.edu)\n",
    "* GitHub repo: https://github.com/giswqs/python-geospatial\n",
    "* Viewable Notebook: https://github.com/giswqs/python-geospatial/blob/master/examples/template.ipynb\n",
    "* Interactive Notebook: [mybinder.org](https://mybinder.org/v2/gh/giswqs/python-geospatial/master?filepath=examples%2Ftemplate.ipynb) | [binder.pangeo.io](http://binder.pangeo.io/v2/gh/giswqs/python-geospatial/master?filepath=examples%2Ftemplate.ipynb)\n",
    "\n",
    "**Launch this tutorial as an interactive Jupyter Notebook on [mybinder.org](https://mybinder.org/v2/gh/giswqs/python-geospatial/master?filepath=examples%2Ftemplate.ipynb) or [binder.pangeo.io](http://binder.pangeo.io/v2/gh/giswqs/python-geospatial/master?filepath=examples%2Ftemplate.ipynb).**"
   ]
  },
  {
   "cell_type": "markdown",
   "metadata": {},
   "source": [
    "## Table of Contents\n",
    "\n",
    "* [Installation](#Installation)\n",
    "* [Getting data](#Getting-data)\n",
    "* [Using template](#Using-template)\n",
    "* [Displaying results](#Displaying-results)\n",
    "* [Credits](#Credits)\n",
    "* [Contact](#Contact)"
   ]
  },
  {
   "cell_type": "markdown",
   "metadata": {},
   "source": [
    "## Installation\n",
    "\n",
    "\n",
    "The **template** Python package can be installed using the following command:\n",
    "\n",
    "`pip install template -U`"
   ]
  },
  {
   "cell_type": "markdown",
   "metadata": {},
   "source": [
    "## Getting data"
   ]
  },
  {
   "cell_type": "markdown",
   "metadata": {},
   "source": [
    "This section demonstrates two ways to get data into Binder so that you can test the **template** Python package on the cloud using your own data. We will use the **[pygis](https://github.com/giswqs/pygis)** Python package to download data into Binder. \n",
    "\n",
    "* [Getting data from direct URLs](#Getting-data-from-direct-URLs) \n",
    "* [Getting data from Google Drive](#Getting-data-from-Google-Drive)"
   ]
  },
  {
   "cell_type": "markdown",
   "metadata": {},
   "source": [
    "### Getting data from direct URLs\n",
    "\n",
    "If you have data hosted on your own HTTP server or GitHub, you should be able to get direct URLs. With a direct URL, users can automatically download the data when the URL is clicked. For example https://github.com/giswqs/lidar/raw/master/examples/lidar-dem.zip"
   ]
  },
  {
   "cell_type": "markdown",
   "metadata": {},
   "source": [
    "Import the following Python libraries and start getting data from direct URLs."
   ]
  },
  {
   "cell_type": "code",
   "execution_count": 1,
   "metadata": {},
   "outputs": [],
   "source": [
    "import os\n",
    "import pygis"
   ]
  },
  {
   "cell_type": "markdown",
   "metadata": {},
   "source": [
    "Create a folder named *data* and set it as the working directory."
   ]
  },
  {
   "cell_type": "code",
   "execution_count": 2,
   "metadata": {},
   "outputs": [
    {
     "name": "stdout",
     "output_type": "stream",
     "text": [
      "Working directory: /home/jovyan/examples/data\n"
     ]
    }
   ],
   "source": [
    "root_dir = os.getcwd()\n",
    "work_dir = os.path.join(root_dir, 'data')\n",
    "if not os.path.exists(work_dir):\n",
    "    os.mkdir(work_dir)\n",
    "print(\"Working directory: {}\".format(os.path.realpath(work_dir)))"
   ]
  },
  {
   "cell_type": "markdown",
   "metadata": {},
   "source": [
    "Replace the following URL with your own direct URL hosting the data you would like to use."
   ]
  },
  {
   "cell_type": "code",
   "execution_count": 3,
   "metadata": {},
   "outputs": [],
   "source": [
    "url = \"https://github.com/giswqs/lidar/raw/master/examples/lidar-dem.zip\""
   ]
  },
  {
   "cell_type": "markdown",
   "metadata": {},
   "source": [
    "Download data the from the above URL and unzip the file if needed."
   ]
  },
  {
   "cell_type": "code",
   "execution_count": 4,
   "metadata": {},
   "outputs": [
    {
     "name": "stdout",
     "output_type": "stream",
     "text": [
      "Downloading lidar-dem.zip ...\n",
      "Downloading done.\n",
      "Unzipping lidar-dem.zip ...\n",
      "Unzipping done.\n",
      "Data directory: /home/jovyan/examples/data/lidar-dem\n"
     ]
    }
   ],
   "source": [
    "pygis.download_from_url(url, out_dir=work_dir)"
   ]
  },
  {
   "cell_type": "markdown",
   "metadata": {},
   "source": [
    "You have successfully downloaded data to Binder. Therefore, you can skip to [Using template](#Using-template) and start testing **template** with your own data. "
   ]
  },
  {
   "cell_type": "markdown",
   "metadata": {},
   "source": [
    "### Getting data from Google Drive\n",
    "\n",
    "Alternatively, you can upload data to [Google Drive](https://www.google.com/drive/) and then [share files publicly from Google Drive](https://support.google.com/drive/answer/2494822?co=GENIE.Platform%3DDesktop&hl=en). Once the file is shared publicly, you should be able to get a shareable URL. For example, https://drive.google.com/file/d/1c6v-ep5-klb2J32Nuu1rSyqAc8kEtmdh."
   ]
  },
  {
   "cell_type": "markdown",
   "metadata": {},
   "source": [
    "**Replace the following URL with your own shareable URL from Google Drive.**"
   ]
  },
  {
   "cell_type": "code",
   "execution_count": 5,
   "metadata": {
    "scrolled": true
   },
   "outputs": [],
   "source": [
    "gfile_url = 'https://drive.google.com/file/d/1c6v-ep5-klb2J32Nuu1rSyqAc8kEtmdh'"
   ]
  },
  {
   "cell_type": "markdown",
   "metadata": {},
   "source": [
    "**Download the shared file from Google Drive.**"
   ]
  },
  {
   "cell_type": "code",
   "execution_count": 6,
   "metadata": {},
   "outputs": [
    {
     "name": "stdout",
     "output_type": "stream",
     "text": [
      "Google Drive file id: 1c6v-ep5-klb2J32Nuu1rSyqAc8kEtmdh\n",
      "Downloading 1c6v-ep5-klb2J32Nuu1rSyqAc8kEtmdh into /home/jovyan/examples/data/lidar-dem.zip... Done.\n",
      "Unzipping...Done.\n"
     ]
    }
   ],
   "source": [
    "pygis.download_from_gdrive(gfile_url, file_name='lidar-dem.zip', out_dir=work_dir)"
   ]
  },
  {
   "cell_type": "markdown",
   "metadata": {},
   "source": [
    "You have successfully downloaded data from Google Drive to Binder. You can now continue to [Using lidar](#Using-lidar) and start testing **lidar** with your own data. "
   ]
  },
  {
   "cell_type": "markdown",
   "metadata": {},
   "source": [
    "## Using template"
   ]
  },
  {
   "cell_type": "markdown",
   "metadata": {},
   "source": [
    "Here you can specify where your data are located. In this example, we will use [dem.tif](https://github.com/giswqs/lidar/blob/master/examples/lidar-dem/dem.tif), which has been downloaded to the *lidar-dem* folder."
   ]
  },
  {
   "cell_type": "markdown",
   "metadata": {},
   "source": [
    "**Import the template package.**"
   ]
  },
  {
   "cell_type": "code",
   "execution_count": 7,
   "metadata": {},
   "outputs": [],
   "source": [
    "import lidar"
   ]
  },
  {
   "cell_type": "markdown",
   "metadata": {},
   "source": [
    "**List data under the data folder.**"
   ]
  },
  {
   "cell_type": "code",
   "execution_count": 8,
   "metadata": {},
   "outputs": [
    {
     "name": "stdout",
     "output_type": "stream",
     "text": [
      "['dsm.tif', 'sink.tif', 'dem.tif']\n"
     ]
    }
   ],
   "source": [
    "data_dir = './data/lidar-dem/'\n",
    "print(os.listdir(data_dir))"
   ]
  },
  {
   "cell_type": "markdown",
   "metadata": {},
   "source": [
    "**Create a temporary folder to save results.**"
   ]
  },
  {
   "cell_type": "code",
   "execution_count": 9,
   "metadata": {},
   "outputs": [
    {
     "name": "stdout",
     "output_type": "stream",
     "text": [
      "Output directory: /home/jovyan/examples/temp\n"
     ]
    }
   ],
   "source": [
    "out_dir = os.path.join(root_dir, \"temp\")\n",
    "if not os.path.exists(out_dir):\n",
    "    os.mkdir(out_dir)\n",
    "print(\"Output directory: {}\".format(os.path.realpath(out_dir)))"
   ]
  },
  {
   "cell_type": "markdown",
   "metadata": {},
   "source": [
    "## Displaying results\n",
    "\n",
    "This section demonstrates how to display images on Jupyter Notebook. Three Python packages are used here, including [matplotlib](https://matplotlib.org/), [imageio](https://imageio.readthedocs.io/en/stable/installation.html), and [tifffile](https://pypi.org/project/tifffile/). These three packages can be installed using the following command:\n",
    "\n",
    "`pip install matplotlib imageio tifffile`\n"
   ]
  },
  {
   "cell_type": "markdown",
   "metadata": {},
   "source": [
    "**Import the libraries.**"
   ]
  },
  {
   "cell_type": "code",
   "execution_count": 10,
   "metadata": {},
   "outputs": [],
   "source": [
    "# comment out the third line (%matplotlib inline) if you run the tutorial in other IDEs other than Jupyter Notebook\n",
    "import matplotlib.pyplot as plt\n",
    "import imageio\n",
    "%matplotlib inline  "
   ]
  },
  {
   "cell_type": "markdown",
   "metadata": {},
   "source": [
    "**Display one single image.**"
   ]
  },
  {
   "cell_type": "code",
   "execution_count": 11,
   "metadata": {},
   "outputs": [
    {
     "data": {
      "image/png": "[encoded data removed]",
      "text/plain": [
       "<Figure size 432x288 with 1 Axes>"
      ]
     },
     "metadata": {
      "needs_background": "light"
     },
     "output_type": "display_data"
    }
   ],
   "source": [
    "raster = imageio.imread(os.path.join(data_dir, 'dem.tif'))\n",
    "plt.imshow(raster)\n",
    "plt.show()"
   ]
  },
  {
   "cell_type": "markdown",
   "metadata": {},
   "source": [
    "## Credits\n",
    "\n",
    "This interactive notebook is made possible by [MyBinder.org](https://mybinder.org/). Big thanks to [MyBinder.org](https://mybinder.org/) for developing the amazing binder platform, which is extremely valuable for reproducible research!"
   ]
  },
  {
   "cell_type": "markdown",
   "metadata": {},
   "source": [
    "## Contact\n",
    "\n",
    "If you have any questions regarding this tutorial or the **lidar** Python package, you can contact me (Dr. Qiusheng Wu) at wqs@binghamton.edu or https://wetlands.io/#contact"
   ]
  }
 ],
 "metadata": {
  "kernelspec": {
   "display_name": "Python 3",
   "language": "python",
   "name": "python3"
  },
  "language_info": {
   "codemirror_mode": {
    "name": "ipython",
    "version": 3
   },
   "file_extension": ".py",
   "mimetype": "text/x-python",
   "name": "python",
   "nbconvert_exporter": "python",
   "pygments_lexer": "ipython3",
   "version": "3.6.6"
  }
 },
 "nbformat": 4,
 "nbformat_minor": 2
}
